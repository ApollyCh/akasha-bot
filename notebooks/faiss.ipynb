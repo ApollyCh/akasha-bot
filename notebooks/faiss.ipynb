{
 "cells": [
  {
   "cell_type": "code",
   "id": "initial_id",
   "metadata": {
    "collapsed": true,
    "ExecuteTime": {
     "end_time": "2024-11-01T13:56:41.265679Z",
     "start_time": "2024-11-01T13:56:32.418340Z"
    }
   },
   "source": [
    "from sentence_transformers import SentenceTransformer\n",
    "from genshin_data import GenshinData\n",
    "import nltk\n",
    "import torch\n",
    "import faiss\n",
    "import numpy as np"
   ],
   "execution_count": 1,
   "outputs": []
  },
  {
   "metadata": {
    "ExecuteTime": {
     "end_time": "2024-11-01T13:56:48.573064Z",
     "start_time": "2024-11-01T13:56:48.557212Z"
    }
   },
   "cell_type": "code",
   "source": [
    "genshin_data = GenshinData(\"characters_data.json\", \"lore_data.json\")\n",
    "chunks = genshin_data.get_all_chuncks()\n",
    "len(chunks)"
   ],
   "id": "eb1ed6ecdf5c3933",
   "execution_count": 2,
   "outputs": []
  },
  {
   "metadata": {
    "ExecuteTime": {
     "end_time": "2024-11-01T13:57:07.511876Z",
     "start_time": "2024-11-01T13:57:07.507306Z"
    }
   },
   "cell_type": "code",
   "source": [
    "class FaissVectorDB:\n",
    "    def __init__(self, dimension):\n",
    "        self.index = faiss.IndexFlatL2(dimension)\n",
    "        self.documents = []\n",
    "\n",
    "    def add_documents(self, texts, embeddings):\n",
    "        embeddings = np.array(embeddings).astype(\"float32\")\n",
    "        self.index.add(embeddings)\n",
    "        self.documents.extend(texts)\n",
    "        print(\"Added documents to the FAISS index\")\n",
    "\n",
    "    def search(self, query_embedding, top_k=5):\n",
    "        query_embedding = np.array([query_embedding]).astype(\"float32\")\n",
    "        distances, indices = self.index.search(query_embedding, top_k)\n",
    "        return [self.documents[idx] for idx in indices[0]], distances[0]"
   ],
   "id": "821ae6022b973208",
   "execution_count": 3,
   "outputs": []
  },
  {
   "metadata": {
    "ExecuteTime": {
     "end_time": "2024-11-01T13:57:37.683905Z",
     "start_time": "2024-11-01T13:57:35.274298Z"
    }
   },
   "cell_type": "code",
   "source": "model = SentenceTransformer('all-MiniLM-L6-v2')",
   "id": "d23fcc3f67d36d52",
   "execution_count": 5,
   "outputs": []
  },
  {
   "metadata": {
    "ExecuteTime": {
     "end_time": "2024-11-01T14:00:41.562474Z",
     "start_time": "2024-11-01T14:00:05.448996Z"
    }
   },
   "cell_type": "code",
   "source": [
    "dimension = 384\n",
    "\n",
    "faiss_db = FaissVectorDB(dimension)\n",
    "\n",
    "embeddings = [model.encode(text).tolist() for text in chunks]\n",
    "faiss_db.add_documents(chunks, embeddings)"
   ],
   "id": "3e594f84b8d83347",
   "execution_count": 6,
   "outputs": []
  },
  {
   "metadata": {
    "ExecuteTime": {
     "end_time": "2024-11-01T14:03:14.139949Z",
     "start_time": "2024-11-01T14:03:14.122715Z"
    }
   },
   "cell_type": "code",
   "source": [
    "query = \"Give me story of Li Yue\"\n",
    "query_embedding = model.encode(query)\n",
    "results, distances = faiss_db.search(query_embedding, top_k=10)"
   ],
   "id": "d577a9e942cdac72",
   "execution_count": 13,
   "outputs": []
  },
  {
   "metadata": {
    "ExecuteTime": {
     "end_time": "2024-11-01T14:03:14.264223Z",
     "start_time": "2024-11-01T14:03:14.260689Z"
    }
   },
   "cell_type": "code",
   "source": [
    "for i, (result, distance) in enumerate(zip(results, distances)):\n",
    "    print(f\"Rank {i+1}\\n{result}\\nDistance: {distance}\\n\")"
   ],
   "id": "faf333e0cd01962",
   "execution_count": 14,
   "outputs": []
  },
  {
   "metadata": {},
   "cell_type": "code",
   "execution_count": null,
   "source": "",
   "id": "c74510939b68d81c",
   "outputs": []
  }
 ],
 "metadata": {
  "kernelspec": {
   "display_name": "Python 3",
   "language": "python",
   "name": "python3"
  },
  "language_info": {
   "codemirror_mode": {
    "name": "ipython",
    "version": 2
   },
   "file_extension": ".py",
   "mimetype": "text/x-python",
   "name": "python",
   "nbconvert_exporter": "python",
   "pygments_lexer": "ipython2",
   "version": "2.7.6"
  }
 },
 "nbformat": 4,
 "nbformat_minor": 5
}
