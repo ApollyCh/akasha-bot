{
 "cells": [
  {
   "cell_type": "code",
   "id": "initial_id",
   "metadata": {
    "collapsed": true,
    "ExecuteTime": {
     "end_time": "2024-11-01T13:56:41.265679Z",
     "start_time": "2024-11-01T13:56:32.418340Z"
    }
   },
   "source": [
    "from sentence_transformers import SentenceTransformer\n",
    "from genshin_data import GenshinData\n",
    "import nltk\n",
    "import torch\n",
    "import faiss\n",
    "import numpy as np"
   ],
   "outputs": [
    {
     "name": "stderr",
     "output_type": "stream",
     "text": [
      "C:\\Users\\User\\AppData\\Local\\Programs\\Python\\Python311\\Lib\\site-packages\\sentence_transformers\\cross_encoder\\CrossEncoder.py:11: TqdmExperimentalWarning: Using `tqdm.autonotebook.tqdm` in notebook mode. Use `tqdm.tqdm` instead to force console mode (e.g. in jupyter console)\n",
      "  from tqdm.autonotebook import tqdm, trange\n"
     ]
    },
    {
     "name": "stdout",
     "output_type": "stream",
     "text": [
      "WARNING:tensorflow:From C:\\Users\\User\\AppData\\Local\\Programs\\Python\\Python311\\Lib\\site-packages\\tf_keras\\src\\losses.py:2976: The name tf.losses.sparse_softmax_cross_entropy is deprecated. Please use tf.compat.v1.losses.sparse_softmax_cross_entropy instead.\n",
      "\n"
     ]
    }
   ],
   "execution_count": 1
  },
  {
   "metadata": {
    "ExecuteTime": {
     "end_time": "2024-11-01T13:56:48.573064Z",
     "start_time": "2024-11-01T13:56:48.557212Z"
    }
   },
   "cell_type": "code",
   "source": [
    "genshin_data = GenshinData(\"characters_data.json\", \"lore_data.json\")\n",
    "chunks = genshin_data.get_all_chuncks()\n",
    "len(chunks)"
   ],
   "id": "eb1ed6ecdf5c3933",
   "outputs": [
    {
     "data": {
      "text/plain": [
       "6641"
      ]
     },
     "execution_count": 2,
     "metadata": {},
     "output_type": "execute_result"
    }
   ],
   "execution_count": 2
  },
  {
   "metadata": {
    "ExecuteTime": {
     "end_time": "2024-11-01T13:57:07.511876Z",
     "start_time": "2024-11-01T13:57:07.507306Z"
    }
   },
   "cell_type": "code",
   "source": [
    "class FaissVectorDB:\n",
    "    def __init__(self, dimension):\n",
    "        self.index = faiss.IndexFlatL2(dimension)\n",
    "        self.documents = []\n",
    "\n",
    "    def add_documents(self, texts, embeddings):\n",
    "        embeddings = np.array(embeddings).astype(\"float32\")\n",
    "        self.index.add(embeddings)\n",
    "        self.documents.extend(texts)\n",
    "        print(\"Added documents to the FAISS index\")\n",
    "\n",
    "    def search(self, query_embedding, top_k=5):\n",
    "        query_embedding = np.array([query_embedding]).astype(\"float32\")\n",
    "        distances, indices = self.index.search(query_embedding, top_k)\n",
    "        return [self.documents[idx] for idx in indices[0]], distances[0]"
   ],
   "id": "821ae6022b973208",
   "outputs": [],
   "execution_count": 3
  },
  {
   "metadata": {
    "ExecuteTime": {
     "end_time": "2024-11-01T13:57:37.683905Z",
     "start_time": "2024-11-01T13:57:35.274298Z"
    }
   },
   "cell_type": "code",
   "source": "model = SentenceTransformer('all-MiniLM-L6-v2')",
   "id": "d23fcc3f67d36d52",
   "outputs": [
    {
     "name": "stderr",
     "output_type": "stream",
     "text": [
      "C:\\Users\\User\\AppData\\Local\\Programs\\Python\\Python311\\Lib\\site-packages\\transformers\\tokenization_utils_base.py:1617: FutureWarning: `clean_up_tokenization_spaces` was not set. It will be set to `True` by default. This behavior will be deprecated in transformers v4.45, and will be then set to `False` by default. For more details check this issue: https://github.com/huggingface/transformers/issues/31884\n",
      "  warnings.warn(\n"
     ]
    }
   ],
   "execution_count": 5
  },
  {
   "metadata": {
    "ExecuteTime": {
     "end_time": "2024-11-01T14:00:41.562474Z",
     "start_time": "2024-11-01T14:00:05.448996Z"
    }
   },
   "cell_type": "code",
   "source": [
    "dimension = 384\n",
    "\n",
    "faiss_db = FaissVectorDB(dimension)\n",
    "\n",
    "embeddings = [model.encode(text).tolist() for text in chunks]\n",
    "faiss_db.add_documents(chunks, embeddings)"
   ],
   "id": "3e594f84b8d83347",
   "outputs": [
    {
     "name": "stderr",
     "output_type": "stream",
     "text": [
      "C:\\Users\\User\\AppData\\Local\\Programs\\Python\\Python311\\Lib\\site-packages\\transformers\\models\\bert\\modeling_bert.py:440: UserWarning: 1Torch was not compiled with flash attention. (Triggered internally at ..\\aten\\src\\ATen\\native\\transformers\\cuda\\sdp_utils.cpp:263.)\n",
      "  attn_output = torch.nn.functional.scaled_dot_product_attention(\n"
     ]
    },
    {
     "name": "stdout",
     "output_type": "stream",
     "text": [
      "Added documents to the FAISS index\n"
     ]
    }
   ],
   "execution_count": 6
  },
  {
   "metadata": {
    "ExecuteTime": {
     "end_time": "2024-11-01T14:03:14.139949Z",
     "start_time": "2024-11-01T14:03:14.122715Z"
    }
   },
   "cell_type": "code",
   "source": [
    "query = \"Give me story of Li Yue\"\n",
    "query_embedding = model.encode(query)\n",
    "results, distances = faiss_db.search(query_embedding, top_k=10)"
   ],
   "id": "d577a9e942cdac72",
   "outputs": [],
   "execution_count": 13
  },
  {
   "metadata": {
    "ExecuteTime": {
     "end_time": "2024-11-01T14:03:14.264223Z",
     "start_time": "2024-11-01T14:03:14.260689Z"
    }
   },
   "cell_type": "code",
   "source": [
    "for i, (result, distance) in enumerate(zip(results, distances)):\n",
    "    print(f\"Rank {i+1}\\n{result}\\nDistance: {distance}\\n\")"
   ],
   "id": "faf333e0cd01962",
   "outputs": [
    {
     "name": "stdout",
     "output_type": "stream",
     "text": [
      "Rank 1\n",
      "Looking to keep costs down, they lured Xiangling onboard after meeting her on the streets, by hook and by crook. When she saw Beidou, Xiangling was dismayed, and let Beidou know this in no uncertain terms: \"If you want to have Yue-style seafood, then I can't agree to help you. I'll have you know that I intend to transcend Liyue's two warring culinary styles with my cooking...\"\n",
      "Distance: 0.8314890265464783\n",
      "\n",
      "Rank 2\n",
      "Liyue is home to two rival culinary traditions, conveniently named the \"Li\" and \"Yue\" styles. Foodies in Liyue are staunch supporters of one style or the other, and have long been embroiled in a bitter battle to prove the superiority of their style.\n",
      "Distance: 0.8898718953132629\n",
      "\n",
      "Rank 3\n",
      "To her, her father only secured his footing in the forever-ongoing war between the Li and Yue cuisines by upholding that principle.\n",
      "Distance: 0.9003896713256836\n",
      "\n",
      "Rank 4\n",
      "Ever since that incident, Chongyun has found that his reputation precedes him for miles around. He has become beloved in Liyue for his \"style and character,\" and indeed scholars have given him this appellation: \"a heart of clear water, and a face of ice.\"\n",
      "Distance: 0.9389740824699402\n",
      "\n",
      "Rank 5\n",
      "In this war waged by culinary snobs, ostentation is everything, flavor gets forgotten, and nothing is a simple matter of taste. Much to the consternation of Liyue's chefs, the Li vs. Yue debate eats up all of the region's rare cooking ingredients in the pursuit of ever-more-pretentious dishes.\n",
      "Distance: 0.9571306705474854\n",
      "\n",
      "Rank 6\n",
      "Despite being a mogul who shakes the very foundations of business circles, she is adored by the children of Liyue like an older sister. A socialite at Yujing Terrace banquets and a connoisseur in the world of desserts, she remains Liyue's most beautiful, unsolvable enigma.\n",
      "Distance: 1.0005741119384766\n",
      "\n",
      "Rank 7\n",
      "The one who usually bears the brunt of his bizarre sense of humor is someone named Chongyun, an exorcist usually found on one of the forest trails around Liyue.\n",
      "Distance: 1.0036289691925049\n",
      "\n",
      "Rank 8\n",
      "Liyue's rulers, who are aware of the truth regarding Xiao, refer to him in his millennia-long experience as the \"Bane of All Evil.\"\n",
      "Distance: 1.0169742107391357\n",
      "\n",
      "Rank 9\n",
      "Beidou managed to slay a sea monster named Haishan which earned her an Electro \n",
      "Vision. This feat impressed even Xiao \n",
      "Shenhe was used as a sacrifice at the age of 6 by her father to bring back his wife, \n",
      "but she was instead taken in by the Adepti, particularly Cloud Retainer \n",
      " Her father summoned the malevolent God in exchange for her life as she \n",
      "was born under the star of calamity \n",
      " He regretted everything and hung himself as a result \n",
      "The Fatui somehow managed to establish a branch of the Northland Bank in Liyue \n",
      "before the Traveler’s arrival despite heavy scrutiny by the Qixing \n",
      " Ironically, the people of Liyue enjoys doing business with the bank as they \n",
      "give generous loans to prospective clients \n",
      " It’s used as their base of operation in Liyue though they deny any and all \n",
      "ties with the \n",
      "Fatui \n",
      "After 3700 years since its establishment, Liyue finds their Archon dead during the \n",
      "annual Rite of Descension, which then became the Rite of Parting led by Zhongli \n",
      "and the Traveler \n",
      " This was all a ploy by both the Geo and Cryo Archon to test Liyue. Childe \n",
      "was painted as the villain who tried to drown Liyue by the people as a result \n",
      "The Jade Chamber is sacrificed to defeat Osial after his unsealing by Childe, bringing \n",
      "forth the dawn of humankind \n",
      "The mora mint at the Golden House stops its production until further notice since \n",
      "Morax’s \n",
      "‘death’, as the currency of the world came to existence thanks to the Geo \n",
      "Archon \n",
      "The Primo Geovishap reawakened in Tianqiu Valley after centuries of hibernating \n",
      "underground, causing earthquakes. This precedes Azhdaha’s reawakening as well \n",
      "Ningguang rebuilt the Jade Chamber after some time had passed when Beidou \n",
      "warned her of restless waves in the sea\n",
      "Distance: 1.0446648597717285\n",
      "\n",
      "Rank 10\n",
      "A little depressed, Chongyun began to wrestle with his own body. When he heard about an evil spirit in Dragonspine, he made for the peak wearing only a shirt.\n",
      "Distance: 1.0448282957077026\n",
      "\n"
     ]
    }
   ],
   "execution_count": 14
  },
  {
   "metadata": {},
   "cell_type": "code",
   "outputs": [],
   "execution_count": null,
   "source": "",
   "id": "c74510939b68d81c"
  }
 ],
 "metadata": {
  "kernelspec": {
   "display_name": "Python 3",
   "language": "python",
   "name": "python3"
  },
  "language_info": {
   "codemirror_mode": {
    "name": "ipython",
    "version": 2
   },
   "file_extension": ".py",
   "mimetype": "text/x-python",
   "name": "python",
   "nbconvert_exporter": "python",
   "pygments_lexer": "ipython2",
   "version": "2.7.6"
  }
 },
 "nbformat": 4,
 "nbformat_minor": 5
}
